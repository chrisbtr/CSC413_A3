{
  "cells": [
    {
      "cell_type": "code",
      "execution_count": 9,
      "metadata": {
        "id": "5CYRKpOHv2ld"
      },
      "outputs": [],
      "source": [
        "import matplotlib\n",
        "import numpy as np\n",
        "import matplotlib.pyplot as plt\n",
        "\n",
        "import torch\n",
        "import torch.nn as nn\n",
        "import torch.optim as optim\n",
        "from torch.utils.data import DataLoader\n",
        "import pickle"
      ]
    },
    {
      "cell_type": "code",
      "execution_count": 10,
      "metadata": {},
      "outputs": [],
      "source": [
        "device = torch.device(\"cuda:0\" if torch.cuda.is_available() else \"cpu\")"
      ]
    },
    {
      "cell_type": "code",
      "execution_count": 11,
      "metadata": {},
      "outputs": [],
      "source": [
        "with open('data.pickle', 'rb') as f:\n",
        "    dataset = pickle.load(f)"
      ]
    },
    {
      "cell_type": "code",
      "execution_count": 12,
      "metadata": {},
      "outputs": [],
      "source": [
        "train, validation, test = dataset"
      ]
    },
    {
      "cell_type": "code",
      "execution_count": 13,
      "metadata": {},
      "outputs": [
        {
          "data": {
            "text/plain": [
              "MyModel(\n",
              "  (lstm): LSTM(3, 128, batch_first=True)\n",
              "  (pitch): Linear(in_features=128, out_features=128, bias=True)\n",
              "  (step): Linear(in_features=128, out_features=1, bias=True)\n",
              "  (duration): Linear(in_features=128, out_features=1, bias=True)\n",
              ")"
            ]
          },
          "execution_count": 13,
          "metadata": {},
          "output_type": "execute_result"
        }
      ],
      "source": [
        "class MyModel(nn.Module):\n",
        "    def __init__(self):\n",
        "        super(MyModel, self).__init__()\n",
        "        self.lstm = nn.LSTM(input_size=3, hidden_size=128, batch_first=True)\n",
        "        self.pitch = nn.Linear(128, 128)\n",
        "        self.step = nn.Linear(128, 1)\n",
        "        self.duration = nn.Linear(128, 1)\n",
        "\n",
        "    def forward(self, x, h = None):\n",
        "        x = x.float()\n",
        "        x, h = self.lstm(x, h)\n",
        "        # x = x[:, -1, :] # Get only the last output from the LSTM\n",
        "        pitch = self.pitch(x)\n",
        "        step = self.step(x)\n",
        "        duration = self.duration(x)\n",
        "        return {'pitch': pitch, 'step': step, 'duration': duration}, h\n",
        "    \n",
        "    def init_state(self):\n",
        "        z1 = torch.zeros(1, 2, 128)\n",
        "        z2 = torch.zeros(1, 2, 128)\n",
        "        return (z1, z2)\n",
        "\n",
        "model = MyModel()\n",
        "model.to(device)"
      ]
    },
    {
      "cell_type": "code",
      "execution_count": 14,
      "metadata": {},
      "outputs": [
        {
          "name": "stdout",
          "output_type": "stream",
          "text": [
            "MyModel(\n",
            "  (lstm): LSTM(3, 128, batch_first=True)\n",
            "  (pitch): Linear(in_features=128, out_features=128, bias=True)\n",
            "  (step): Linear(in_features=128, out_features=1, bias=True)\n",
            "  (duration): Linear(in_features=128, out_features=1, bias=True)\n",
            ")\n"
          ]
        }
      ],
      "source": [
        "# Print model summary\n",
        "print(model)"
      ]
    },
    {
      "cell_type": "code",
      "execution_count": 17,
      "metadata": {},
      "outputs": [
        {
          "name": "stdout",
          "output_type": "stream",
          "text": [
            "Epoch 0: train loss=1.6698, val loss=1.8062\n",
            "Epoch 1: train loss=1.6050, val loss=1.8123\n",
            "Epoch 2: train loss=1.5939, val loss=1.8089\n",
            "Epoch 3: train loss=1.5827, val loss=1.8060\n",
            "Epoch 4: train loss=1.5713, val loss=1.8025\n",
            "Epoch 5: train loss=1.5589, val loss=1.7965\n",
            "Epoch 6: train loss=1.4419, val loss=1.7914\n",
            "Epoch 7: train loss=1.5360, val loss=1.7876\n",
            "Epoch 8: train loss=1.5253, val loss=1.7843\n",
            "Epoch 9: train loss=1.5131, val loss=1.7877\n",
            "Epoch 10: train loss=1.4995, val loss=1.7754\n",
            "Epoch 11: train loss=1.4876, val loss=1.7774\n",
            "Epoch 12: train loss=1.4761, val loss=1.7647\n",
            "Epoch 13: train loss=1.4642, val loss=1.7580\n",
            "Epoch 14: train loss=1.4504, val loss=1.7551\n",
            "Epoch 15: train loss=1.4415, val loss=1.7530\n",
            "Epoch 16: train loss=1.4297, val loss=1.7514\n",
            "Epoch 17: train loss=1.4186, val loss=1.7419\n",
            "Epoch 18: train loss=1.4070, val loss=1.7400\n",
            "Epoch 19: train loss=1.3972, val loss=1.7349\n",
            "Epoch 20: train loss=1.3842, val loss=1.7342\n",
            "Epoch 21: train loss=1.3739, val loss=1.7347\n",
            "Epoch 22: train loss=1.3639, val loss=1.7239\n",
            "Epoch 23: train loss=1.3525, val loss=1.7186\n",
            "Epoch 24: train loss=1.3419, val loss=1.7225\n",
            "Epoch 25: train loss=1.3316, val loss=1.7146\n",
            "Epoch 26: train loss=1.3218, val loss=1.7087\n",
            "Epoch 27: train loss=1.3149, val loss=1.7019\n",
            "Epoch 28: train loss=1.2691, val loss=1.6964\n",
            "Epoch 29: train loss=1.2935, val loss=1.6937\n",
            "Epoch 30: train loss=1.2839, val loss=1.6931\n",
            "Epoch 31: train loss=1.2733, val loss=1.6954\n",
            "Epoch 32: train loss=1.2646, val loss=1.6863\n",
            "Epoch 33: train loss=1.2555, val loss=1.6826\n",
            "Epoch 34: train loss=1.2475, val loss=1.6781\n",
            "Epoch 35: train loss=1.2375, val loss=1.6720\n",
            "Epoch 36: train loss=1.2286, val loss=1.6677\n",
            "Epoch 37: train loss=1.2214, val loss=1.6726\n",
            "Epoch 38: train loss=1.2103, val loss=1.6702\n",
            "Epoch 39: train loss=1.2014, val loss=1.6619\n",
            "Epoch 40: train loss=1.1959, val loss=1.6586\n",
            "Epoch 41: train loss=1.1870, val loss=1.6528\n",
            "Epoch 42: train loss=1.1808, val loss=1.6542\n",
            "Epoch 43: train loss=1.1690, val loss=1.6520\n",
            "Epoch 44: train loss=1.1626, val loss=1.6495\n",
            "Epoch 45: train loss=1.1541, val loss=1.6461\n",
            "Epoch 46: train loss=1.1499, val loss=1.6459\n",
            "Epoch 47: train loss=1.1438, val loss=1.6457\n",
            "Epoch 48: train loss=1.1306, val loss=1.6359\n",
            "Epoch 49: train loss=1.1225, val loss=1.6367\n"
          ]
        }
      ],
      "source": [
        "# Set number of epochs to train for\n",
        "num_epochs = 50\n",
        "batch_size = 64\n",
        "val_batch_size = 128\n",
        "\n",
        "train_loader = DataLoader(train, shuffle=True, batch_size=batch_size)\n",
        "val_loader = DataLoader(validation, shuffle=True, batch_size=val_batch_size)\n",
        "\n",
        "loss = {\n",
        "    'pitch': nn.CrossEntropyLoss(),\n",
        "    'step': nn.MSELoss(),\n",
        "    'duration': nn.MSELoss()\n",
        "    }\n",
        "learning_rate = 0.001\n",
        "optimizer = optim.Adam(model.parameters(), lr=learning_rate)\n",
        "\n",
        "# Train the model\n",
        "for epoch in range(num_epochs):\n",
        "    # Train the model for one epoch\n",
        "    train_loss = 0.000\n",
        "    h = None\n",
        "    \n",
        "    for batch_idx, data in enumerate(train_loader):\n",
        "        if data.size()[0] < batch_size:\n",
        "            continue\n",
        "\n",
        "        data = data.to(device)\n",
        "        optimizer.zero_grad()\n",
        "        outputs, h = model(data, h)\n",
        "        (state_h, state_c) = h\n",
        "        state_h = state_h.detach()\n",
        "        state_c = state_c.detach()\n",
        "        h = (state_h, state_c)\n",
        "        batch_loss = []\n",
        "        for idx, key in enumerate(loss):\n",
        "            if key == 'pitch':\n",
        "                tmp_loss = loss[key](outputs[key].permute(0, 2, 1), data[:, :, idx].long())\n",
        "            else:\n",
        "                tmp_loss = loss[key](outputs[key].permute(0, 2, 1), data[:, :, idx].reshape(batch_size, 64, 1).permute(0, 2, 1).float())\n",
        "\n",
        "            batch_loss.append(tmp_loss)\n",
        "\n",
        "        final_loss = batch_loss[0] + batch_loss[1] + batch_loss[2]\n",
        "        train_loss += final_loss.item()\n",
        "        \n",
        "        \n",
        "        final_loss.backward()\n",
        "        optimizer.step()\n",
        "\n",
        "    # Evaluate the model on the validation set\n",
        "    model.eval()\n",
        "    val_loss = 0.0\n",
        "    with torch.no_grad():\n",
        "        h = None\n",
        "        \n",
        "        for batch_idx, data in enumerate(val_loader):\n",
        "            data = data.to(device)\n",
        "            if data.size()[0] < val_batch_size:\n",
        "                continue\n",
        "\n",
        "            batch_loss = []\n",
        "            outputs, h = model(data)\n",
        "\n",
        "            (state_h, state_c) = h\n",
        "            state_h = state_h.detach()\n",
        "            state_c = state_c.detach()\n",
        "            h = (state_h, state_c)\n",
        "\n",
        "            # batch_loss = sum(loss[key](outputs[key], targets[key]) for key in loss)\n",
        "            for idx, key in enumerate(loss):\n",
        "                if key == 'pitch':\n",
        "                    tmp_loss = loss[key](outputs[key].permute(0, 2, 1), data[:, :, idx].long())\n",
        "                else:\n",
        "                    tmp_loss = loss[key](outputs[key].permute(0, 2, 1), data[:, :, idx].reshape(val_batch_size, 64, 1).permute(0, 2, 1).float())\n",
        "\n",
        "                batch_loss.append(tmp_loss)\n",
        "            \n",
        "            final_loss = batch_loss[0] + batch_loss[1] + batch_loss[2]\n",
        "            val_loss += final_loss.item()\n",
        "            \n",
        "    model.train()\n",
        "\n",
        "\n",
        "    # Print the epoch statistics\n",
        "    print(f'Epoch {epoch}: train loss={train_loss/len(train_loader):.4f}, val loss={val_loss/len(val_loader):.4f}')\n"
      ]
    },
    {
      "cell_type": "code",
      "execution_count": 16,
      "metadata": {},
      "outputs": [],
      "source": [
        "# TODO: Create a generate music function"
      ]
    }
  ],
  "metadata": {
    "colab": {
      "provenance": []
    },
    "kernelspec": {
      "display_name": "Python 3.10.4 64-bit",
      "language": "python",
      "name": "python3"
    },
    "language_info": {
      "codemirror_mode": {
        "name": "ipython",
        "version": 3
      },
      "file_extension": ".py",
      "mimetype": "text/x-python",
      "name": "python",
      "nbconvert_exporter": "python",
      "pygments_lexer": "ipython3",
      "version": "3.10.4"
    },
    "vscode": {
      "interpreter": {
        "hash": "edf259275ad4a72d4dd5b452264ad5fb2b635233dff2a31edc6ebc740e55e21b"
      }
    }
  },
  "nbformat": 4,
  "nbformat_minor": 0
}
