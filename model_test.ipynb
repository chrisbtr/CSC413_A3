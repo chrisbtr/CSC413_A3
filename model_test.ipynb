{
  "cells": [
    {
      "cell_type": "code",
      "execution_count": 1,
      "metadata": {
        "id": "5CYRKpOHv2ld"
      },
      "outputs": [],
      "source": [
        "import matplotlib\n",
        "import numpy as np\n",
        "import matplotlib.pyplot as plt\n",
        "\n",
        "import torch\n",
        "import torch.nn as nn\n",
        "import torch.optim as optim\n",
        "from torch.utils.data import DataLoader\n",
        "import pickle"
      ]
    },
    {
      "cell_type": "code",
      "execution_count": 2,
      "metadata": {},
      "outputs": [],
      "source": [
        "device = torch.device(\"cuda:0\" if torch.cuda.is_available() else \"cpu\")"
      ]
    },
    {
      "cell_type": "code",
      "execution_count": 3,
      "metadata": {},
      "outputs": [],
      "source": [
        "with open('data.pickle', 'rb') as f:\n",
        "    dataset = pickle.load(f)"
      ]
    },
    {
      "cell_type": "code",
      "execution_count": 4,
      "metadata": {},
      "outputs": [],
      "source": [
        "train, validation, test = dataset"
      ]
    },
    {
      "cell_type": "code",
      "execution_count": 5,
      "metadata": {},
      "outputs": [
        {
          "data": {
            "text/plain": [
              "MyModel(\n",
              "  (lstm): LSTM(3, 128, batch_first=True)\n",
              "  (pitch): Linear(in_features=128, out_features=128, bias=True)\n",
              "  (step): Linear(in_features=128, out_features=1, bias=True)\n",
              "  (duration): Linear(in_features=128, out_features=1, bias=True)\n",
              ")"
            ]
          },
          "execution_count": 5,
          "metadata": {},
          "output_type": "execute_result"
        }
      ],
      "source": [
        "class MyModel(nn.Module):\n",
        "    def __init__(self):\n",
        "        super(MyModel, self).__init__()\n",
        "        self.lstm = nn.LSTM(input_size=3, hidden_size=128, batch_first=True)\n",
        "        self.pitch = nn.Linear(128, 128)\n",
        "        self.step = nn.Linear(128, 1)\n",
        "        self.duration = nn.Linear(128, 1)\n",
        "\n",
        "    def forward(self, x, h = None):\n",
        "        x = x.float()\n",
        "        x, h = self.lstm(x, h)\n",
        "        # x = x[:, -1, :] # Get only the last output from the LSTM\n",
        "        pitch = self.pitch(x)\n",
        "        step = self.step(x)\n",
        "        duration = self.duration(x)\n",
        "        return {'pitch': pitch, 'step': step, 'duration': duration}, h\n",
        "    \n",
        "    def init_state(self):\n",
        "        z1 = torch.zeros(1, 2, 128)\n",
        "        z2 = torch.zeros(1, 2, 128)\n",
        "        return (z1, z2)\n",
        "\n",
        "model = MyModel()\n",
        "model.to(device)"
      ]
    },
    {
      "cell_type": "code",
      "execution_count": 6,
      "metadata": {},
      "outputs": [
        {
          "name": "stdout",
          "output_type": "stream",
          "text": [
            "MyModel(\n",
            "  (lstm): LSTM(3, 128, batch_first=True)\n",
            "  (pitch): Linear(in_features=128, out_features=128, bias=True)\n",
            "  (step): Linear(in_features=128, out_features=1, bias=True)\n",
            "  (duration): Linear(in_features=128, out_features=1, bias=True)\n",
            ")\n"
          ]
        }
      ],
      "source": [
        "# Print model summary\n",
        "print(model)"
      ]
    },
    {
      "cell_type": "code",
      "execution_count": 7,
      "metadata": {},
      "outputs": [
        {
          "name": "stdout",
          "output_type": "stream",
          "text": [
            "Epoch 0: train loss=4.4162, val loss=3.2227\n",
            "Epoch 1: train loss=3.7094, val loss=2.8887\n",
            "Epoch 2: train loss=3.4744, val loss=2.7423\n",
            "Epoch 3: train loss=3.3403, val loss=2.6623\n",
            "Epoch 4: train loss=3.2262, val loss=2.5705\n",
            "Epoch 5: train loss=3.1249, val loss=2.4877\n",
            "Epoch 6: train loss=3.0385, val loss=2.4191\n",
            "Epoch 7: train loss=2.9667, val loss=2.3517\n",
            "Epoch 8: train loss=2.9027, val loss=2.3121\n",
            "Epoch 9: train loss=2.8433, val loss=2.2557\n",
            "Epoch 10: train loss=2.7824, val loss=2.2186\n",
            "Epoch 11: train loss=2.7271, val loss=2.1681\n",
            "Epoch 12: train loss=2.6755, val loss=2.1185\n",
            "Epoch 13: train loss=2.6253, val loss=2.0769\n",
            "Epoch 14: train loss=2.5816, val loss=2.0483\n",
            "Epoch 15: train loss=2.4815, val loss=2.0043\n",
            "Epoch 16: train loss=2.4930, val loss=1.9743\n",
            "Epoch 17: train loss=2.4561, val loss=1.9370\n",
            "Epoch 18: train loss=2.4164, val loss=1.8958\n",
            "Epoch 19: train loss=2.3792, val loss=1.8770\n",
            "Epoch 20: train loss=2.3461, val loss=1.8512\n",
            "Epoch 21: train loss=2.3093, val loss=1.8212\n",
            "Epoch 22: train loss=2.2762, val loss=1.7923\n",
            "Epoch 23: train loss=2.2475, val loss=1.7751\n",
            "Epoch 24: train loss=2.2146, val loss=1.7408\n",
            "Epoch 25: train loss=2.1852, val loss=1.7187\n",
            "Epoch 26: train loss=2.1585, val loss=1.6941\n",
            "Epoch 27: train loss=2.1295, val loss=1.6724\n",
            "Epoch 28: train loss=2.1018, val loss=1.6455\n",
            "Epoch 29: train loss=2.0772, val loss=1.6330\n",
            "Epoch 30: train loss=2.0535, val loss=1.6143\n",
            "Epoch 31: train loss=2.0283, val loss=1.5773\n",
            "Epoch 32: train loss=2.0061, val loss=1.5707\n",
            "Epoch 33: train loss=1.9815, val loss=1.5523\n",
            "Epoch 34: train loss=1.9597, val loss=1.5344\n",
            "Epoch 35: train loss=1.9392, val loss=1.5231\n",
            "Epoch 36: train loss=1.9171, val loss=1.4956\n",
            "Epoch 37: train loss=1.8978, val loss=1.4816\n",
            "Epoch 38: train loss=1.8769, val loss=1.4663\n",
            "Epoch 39: train loss=1.8567, val loss=1.4544\n",
            "Epoch 40: train loss=1.8388, val loss=1.4366\n",
            "Epoch 41: train loss=1.8217, val loss=1.4186\n",
            "Epoch 42: train loss=1.8027, val loss=1.4097\n",
            "Epoch 43: train loss=1.7843, val loss=1.3895\n",
            "Epoch 44: train loss=1.7668, val loss=1.3728\n",
            "Epoch 45: train loss=1.7508, val loss=1.3591\n",
            "Epoch 46: train loss=1.7343, val loss=1.3521\n",
            "Epoch 47: train loss=1.7192, val loss=1.3305\n",
            "Epoch 48: train loss=1.6634, val loss=1.3235\n",
            "Epoch 49: train loss=1.6879, val loss=1.3062\n"
          ]
        }
      ],
      "source": [
        "# Set number of epochs to train for\n",
        "num_epochs = 50\n",
        "batch_size = 64\n",
        "val_batch_size = 128\n",
        "\n",
        "train_loader = DataLoader(train, shuffle=True, batch_size=batch_size)\n",
        "val_loader = DataLoader(validation, shuffle=True, batch_size=val_batch_size)\n",
        "\n",
        "loss = {\n",
        "    'pitch': nn.CrossEntropyLoss(),\n",
        "    'step': nn.MSELoss(),\n",
        "    'duration': nn.MSELoss()\n",
        "    }\n",
        "learning_rate = 0.001\n",
        "optimizer = optim.Adam(model.parameters(), lr=learning_rate)\n",
        "\n",
        "# Train the model\n",
        "for epoch in range(num_epochs):\n",
        "    # Train the model for one epoch\n",
        "    train_loss = 0.000\n",
        "    \n",
        "    for batch_idx, data in enumerate(train_loader):\n",
        "        if data.size()[0] < batch_size:\n",
        "            continue\n",
        "\n",
        "        h = None\n",
        "        data = data.to(device)\n",
        "        optimizer.zero_grad()\n",
        "        outputs, h = model(data, h)\n",
        "        batch_loss = []\n",
        "        for idx, key in enumerate(loss):\n",
        "            if key == 'pitch':\n",
        "                tmp_loss = loss[key](outputs[key].permute(0, 2, 1), data[:, :, idx].long())\n",
        "            else:\n",
        "                tmp_loss = loss[key](outputs[key].permute(0, 2, 1), data[:, :, idx].reshape(batch_size, 64, 1).permute(0, 2, 1).float())\n",
        "\n",
        "            batch_loss.append(tmp_loss)\n",
        "\n",
        "        final_loss = batch_loss[0] + batch_loss[1] + batch_loss[2]\n",
        "        train_loss += final_loss.item()\n",
        "        (state_h, state_c) = h\n",
        "        state_h = state_h.detach()\n",
        "        state_c = state_c.detach()\n",
        "        \n",
        "        final_loss.backward()\n",
        "        optimizer.step()\n",
        "\n",
        "    # Evaluate the model on the validation set\n",
        "    model.eval()\n",
        "    val_loss = 0.0\n",
        "    with torch.no_grad():\n",
        "        \n",
        "        for batch_idx, data in enumerate(val_loader):\n",
        "            data = data.to(device)\n",
        "            if data.size()[0] < val_batch_size:\n",
        "                continue\n",
        "\n",
        "            h = None\n",
        "            batch_loss = []\n",
        "            outputs, h = model(data)\n",
        "            # batch_loss = sum(loss[key](outputs[key], targets[key]) for key in loss)\n",
        "            for idx, key in enumerate(loss):\n",
        "                if key == 'pitch':\n",
        "                    tmp_loss = loss[key](outputs[key].permute(0, 2, 1), data[:, :, idx].long())\n",
        "                else:\n",
        "                    tmp_loss = loss[key](outputs[key].permute(0, 2, 1), data[:, :, idx].reshape(val_batch_size, 64, 1).permute(0, 2, 1).float())\n",
        "\n",
        "                batch_loss.append(tmp_loss)\n",
        "            \n",
        "            final_loss = batch_loss[0] + batch_loss[1] + batch_loss[2]\n",
        "            val_loss += final_loss.item()\n",
        "    model.train()\n",
        "\n",
        "\n",
        "    # Print the epoch statistics\n",
        "    print(f'Epoch {epoch}: train loss={train_loss/len(train_loader):.4f}, val loss={val_loss/len(val_loader):.4f}')\n"
      ]
    },
    {
      "cell_type": "code",
      "execution_count": null,
      "metadata": {},
      "outputs": [],
      "source": [
        "# TODO: Create a generate music function"
      ]
    }
  ],
  "metadata": {
    "colab": {
      "provenance": []
    },
    "kernelspec": {
      "display_name": "Python 3.10.4 64-bit",
      "language": "python",
      "name": "python3"
    },
    "language_info": {
      "codemirror_mode": {
        "name": "ipython",
        "version": 3
      },
      "file_extension": ".py",
      "mimetype": "text/x-python",
      "name": "python",
      "nbconvert_exporter": "python",
      "pygments_lexer": "ipython3",
      "version": "3.10.4"
    },
    "vscode": {
      "interpreter": {
        "hash": "edf259275ad4a72d4dd5b452264ad5fb2b635233dff2a31edc6ebc740e55e21b"
      }
    }
  },
  "nbformat": 4,
  "nbformat_minor": 0
}
